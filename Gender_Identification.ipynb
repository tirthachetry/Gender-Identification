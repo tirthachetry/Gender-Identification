{
 "cells": [
  {
   "cell_type": "code",
   "execution_count": 1,
   "metadata": {
    "collapsed": true
   },
   "outputs": [],
   "source": [
    "#Importing libraries\n",
    "import random\n",
    "import nltk\n",
    "from nltk.corpus import names"
   ]
  },
  {
   "cell_type": "code",
   "execution_count": 2,
   "metadata": {
    "collapsed": true
   },
   "outputs": [],
   "source": [
    "# creating list of tuples containing name and gender (from the male.txt and female.txt i.e names corpus )\n",
    "labeled_names = ([(name, 'male') for name in names.words('male.txt')] + [(name, 'female') for name in names.words('female.txt')])\n",
    "\n",
    "# shuffling the  labeled_names\n",
    "random.shuffle(labeled_names)"
   ]
  },
  {
   "cell_type": "code",
   "execution_count": 3,
   "metadata": {
    "collapsed": true
   },
   "outputs": [],
   "source": [
    "#feature extractor function builds a dictionary containing relevant information about a given name:\n",
    "def gender_features(word):\n",
    "    return {'last_letter': word[-1]}"
   ]
  },
  {
   "cell_type": "code",
   "execution_count": 4,
   "metadata": {
    "collapsed": false
   },
   "outputs": [
    {
     "data": {
      "text/plain": [
       "{'last_letter': 'm'}"
      ]
     },
     "execution_count": 4,
     "metadata": {},
     "output_type": "execute_result"
    }
   ],
   "source": [
    "# demo\n",
    "gender_features('subham')"
   ]
  },
  {
   "cell_type": "code",
   "execution_count": 5,
   "metadata": {
    "collapsed": true
   },
   "outputs": [],
   "source": [
    "#creating features set eg: [ ( {'last_letter': 'm'} , 'male') ]\n",
    "featuresets = [(gender_features(n), gender) for (n, gender) in labeled_names]"
   ]
  },
  {
   "cell_type": "code",
   "execution_count": 6,
   "metadata": {
    "collapsed": true
   },
   "outputs": [],
   "source": [
    "# splitting the feature set into train and test set\n",
    "train_set, test_set = featuresets[500:], featuresets[:500]"
   ]
  },
  {
   "cell_type": "code",
   "execution_count": 7,
   "metadata": {
    "collapsed": true
   },
   "outputs": [],
   "source": [
    "# creating naive bayes classifier\n",
    "classifier = nltk.NaiveBayesClassifier.train(train_set)"
   ]
  },
  {
   "cell_type": "code",
   "execution_count": 10,
   "metadata": {
    "collapsed": false
   },
   "outputs": [
    {
     "data": {
      "text/plain": [
       "'male'"
      ]
     },
     "execution_count": 10,
     "metadata": {},
     "output_type": "execute_result"
    }
   ],
   "source": [
    "# classifying a given name using the model\n",
    "classifier.classify(gender_features('rahul'))"
   ]
  },
  {
   "cell_type": "code",
   "execution_count": 9,
   "metadata": {
    "collapsed": false
   },
   "outputs": [
    {
     "name": "stdout",
     "output_type": "stream",
     "text": [
      "72.6\n"
     ]
    }
   ],
   "source": [
    "# testing accuracy of our model by test set \n",
    "accuracy=nltk.classify.accuracy(classifier, test_set)\n",
    "print accuracy*100    "
   ]
  },
  {
   "cell_type": "markdown",
   "metadata": {},
   "source": [
    "############################ When working with large corpora, #######################################"
   ]
  },
  {
   "cell_type": "code",
   "execution_count": 17,
   "metadata": {
    "collapsed": true
   },
   "outputs": [],
   "source": [
    "# apply_features() function returns an object that acts like a list but does not store all the feature sets in memory\n",
    "\n",
    "from nltk.classify import apply_features\n",
    "train_set = apply_features(gender_features, labeled_names[500:])\n",
    "test_set = apply_features(gender_features, labeled_names[:500])"
   ]
  },
  {
   "cell_type": "code",
   "execution_count": 18,
   "metadata": {
    "collapsed": false
   },
   "outputs": [
    {
     "name": "stdout",
     "output_type": "stream",
     "text": [
      "75.8\n"
     ]
    }
   ],
   "source": [
    "# building and testing classifier\n",
    "classifier = nltk.NaiveBayesClassifier.train(train_set)\n",
    "accuracy=nltk.classify.accuracy(classifier, test_set)\n",
    "print accuracy*100    "
   ]
  },
  {
   "cell_type": "markdown",
   "metadata": {},
   "source": [
    "########################## modifying gender_features  ##########################################"
   ]
  },
  {
   "cell_type": "code",
   "execution_count": 13,
   "metadata": {
    "collapsed": true
   },
   "outputs": [],
   "source": [
    "#Choosing the more appropriate Features\n",
    "def gender_features(word):\n",
    "     return {'last_letter': word[-1:],\n",
    "             'last_2letter': word[-2:]}"
   ]
  },
  {
   "cell_type": "code",
   "execution_count": 14,
   "metadata": {
    "collapsed": false
   },
   "outputs": [
    {
     "name": "stdout",
     "output_type": "stream",
     "text": [
      "75.2\n"
     ]
    }
   ],
   "source": [
    "# building and testing classifier\n",
    "featuresets = [(gender_features(n), gender) for (n, gender) in labeled_names]\n",
    "train_set, test_set = featuresets[500:], featuresets[:500]\n",
    "classifier = nltk.NaiveBayesClassifier.train(train_set)\n",
    "accuracy=nltk.classify.accuracy(classifier, test_set)\n",
    "print accuracy*100    "
   ]
  },
  {
   "cell_type": "code",
   "execution_count": 17,
   "metadata": {
    "collapsed": false
   },
   "outputs": [
    {
     "data": {
      "text/plain": [
       "'male'"
      ]
     },
     "execution_count": 17,
     "metadata": {},
     "output_type": "execute_result"
    }
   ],
   "source": [
    "#check\n",
    "classifier.classify(gender_features('rahul'))"
   ]
  },
  {
   "cell_type": "code",
   "execution_count": 38,
   "metadata": {
    "collapsed": false
   },
   "outputs": [
    {
     "name": "stdout",
     "output_type": "stream",
     "text": [
      "Most Informative Features\n",
      "            last_2letter = u'na'          female : male   =     99.1 : 1.0\n",
      "            last_2letter = u'la'          female : male   =     76.7 : 1.0\n",
      "            last_2letter = u'us'            male : female =     67.1 : 1.0\n",
      "            last_2letter = u'ia'          female : male   =     56.3 : 1.0\n",
      "            last_2letter = u'ta'          female : male   =     44.1 : 1.0\n",
      "             last_letter = u'a'           female : male   =     39.6 : 1.0\n",
      "            last_2letter = u'ra'          female : male   =     36.2 : 1.0\n",
      "            last_2letter = u'sa'          female : male   =     34.2 : 1.0\n",
      "             last_letter = u'k'             male : female =     32.7 : 1.0\n",
      "            last_2letter = u'io'            male : female =     28.3 : 1.0\n"
     ]
    }
   ],
   "source": [
    "# show_most_informative_features() finds out which features the classifier found to be most informative\n",
    "classifier.show_most_informative_features(10)"
   ]
  },
  {
   "cell_type": "code",
   "execution_count": null,
   "metadata": {
    "collapsed": true
   },
   "outputs": [],
   "source": []
  }
 ],
 "metadata": {
  "kernelspec": {
   "display_name": "Python 2",
   "language": "python",
   "name": "python2"
  },
  "language_info": {
   "codemirror_mode": {
    "name": "ipython",
    "version": 2
   },
   "file_extension": ".py",
   "mimetype": "text/x-python",
   "name": "python",
   "nbconvert_exporter": "python",
   "pygments_lexer": "ipython2",
   "version": "2.7.13"
  }
 },
 "nbformat": 4,
 "nbformat_minor": 2
}
